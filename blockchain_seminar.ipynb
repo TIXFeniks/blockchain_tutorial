{
 "cells": [
  {
   "cell_type": "markdown",
   "metadata": {},
   "source": [
    "# Blockchain introduction seminar\n",
    "\n",
    "Based on: \n",
    "* https://github.com/santisiri/proof-of-work/blob/master/pow.py\n",
    "* http://ecomunsing.com/build-your-own-blockchain\n",
    "* https://github.com/JaeDukSeo/Simple-Merkle-Tree-in-Python\n",
    "* https://www.laurentluce.com/posts/python-and-cryptography-with-pycrypto/"
   ]
  },
  {
   "cell_type": "markdown",
   "metadata": {},
   "source": [
    "## 1. Proof-of-Work"
   ]
  },
  {
   "cell_type": "markdown",
   "metadata": {},
   "source": [
    "Ниже приведена простая реализация функции Proof-of-Work.\n",
    "Она принимает заголовок блока и сложность вычисления (количество битов, которые должны быть нулевыми в начале хэша) как параметры и возвращает итоговый хэш смайненного блока и nonce для этого блока."
   ]
  },
  {
   "cell_type": "code",
   "execution_count": null,
   "metadata": {},
   "outputs": [],
   "source": [
    "import hashlib\n",
    "\n",
    "def proof_of_work(header, difficulty_bits):\n",
    "    max_nonce = 2 ** 32\n",
    "    target = 2 ** (256-difficulty_bits)\n",
    "    for nonce in range(max_nonce):\n",
    "        hash_result = hashlib.sha256(str(header).encode('utf-8')+str(nonce).encode('utf-8')).hexdigest()\n",
    "\n",
    "        if int(hash_result, 16) < target:\n",
    "            return (hash_result, nonce)"
   ]
  },
  {
   "cell_type": "markdown",
   "metadata": {},
   "source": [
    "Вычисляем корневой блок"
   ]
  },
  {
   "cell_type": "code",
   "execution_count": null,
   "metadata": {},
   "outputs": [],
   "source": [
    "import time\n",
    "\n",
    "nonce = 0\n",
    "block_hash = \"\"\n",
    "header = 'This is the root block' + block_hash\n",
    "\n",
    "difficulty_bits = 14\n",
    "\n",
    "start_time = time.time()\n",
    "(new_block, nonce) = proof_of_work(header, difficulty_bits)\n",
    "end_time = time.time()\n",
    "elapsed_time = end_time - start_time\n",
    "\n",
    "print(\"Success with nonce \", nonce)\n",
    "print(\"Hash is \", new_block)\n",
    "print(\"Elapsed time: %.4f seconds\" % elapsed_time)"
   ]
  },
  {
   "cell_type": "markdown",
   "metadata": {},
   "source": [
    "### Задание 1.1\n",
    "\n",
    "Рассчитайте N=100 блоков для разного количества нулевых битов в начале хэша. Далее мы выведем логарифм затраченного времени и логарифм количества перебранных значений nonce как функцию от количества нулывых битов вначале. \n",
    "\n",
    "Какие мы ожидаем увидеть зависимости?\n",
    "\n",
    "*Note.* Каждый следующий блок должен включать хэш предыдущего."
   ]
  },
  {
   "cell_type": "code",
   "execution_count": null,
   "metadata": {},
   "outputs": [],
   "source": [
    "# code here\n",
    "\n",
    "import numpy as np\n",
    "\n",
    "number_of_blocks = 100\n",
    "\n",
    "indexes_to_check = 16 #Максимальное количество нулей в начале блока\n",
    "mean_times = np.zeros(indexes_to_check)\n",
    "\n",
    "mean_nonce = np.zeros(indexes_to_check)\n",
    "\n",
    "for current_difficulty in range(1, indexes_to_check + 1):\n",
    "    print(current_difficulty)\n",
    "    estimated_times = np.zeros(number_of_blocks)\n",
    "    estimated_nonces = np.zeros(number_of_blocks)\n",
    "    for block_number in range(number_of_blocks):\n",
    "        start_time = time.time()\n",
    "        # ==== TODO: compute the block hash with given difficulty\n",
    "        (new_block, nonce) =\n",
    "        # =====================================\n",
    "        end_time = time.time()\n",
    "        estimated_times[block_number] = end_time - start_time\n",
    "        estimated_nonces[block_number] = nonce\n",
    "        \n",
    "    mean_times[current_difficulty-1] = np.mean(estimated_times)\n",
    "    mean_nonce[current_difficulty-1] = np.mean(estimated_nonces)\n"
   ]
  },
  {
   "cell_type": "code",
   "execution_count": null,
   "metadata": {},
   "outputs": [],
   "source": [
    "%matplotlib inline\n",
    "import matplotlib.pyplot as plt\n",
    "\n",
    "plt.figure(figsize=(10,10))\n",
    "\n",
    "plt.subplot(221)\n",
    "\n",
    "plt.title('Time')\n",
    "plt.plot(range(indexes_to_check), mean_times, '-*b')\n",
    "\n",
    "plt.subplot(222)\n",
    "plt.title('log-Time')\n",
    "plt.semilogy(range(indexes_to_check), mean_times, '-*b')\n",
    "\n",
    "plt.subplot(223)\n",
    "plt.title('Nonce')\n",
    "plt.plot(range(indexes_to_check), mean_nonce, '-*b');\n",
    "plt.subplot(224)\n",
    "plt.title('log-Nonce')\n",
    "plt.semilogy(range(indexes_to_check), mean_nonce, '-*b');"
   ]
  },
  {
   "cell_type": "markdown",
   "metadata": {},
   "source": [
    "### Task 1.2\n",
    "\n",
    "Измените функцию proof_of_work так, чтобы она принимала ограничение сверху на значение хэша(переменная target в нашей реализации) вместо количества нулевых битов вначале.\n",
    "\n",
    "Какие разумные ограничения на это число?\n",
    "\n",
    "Выберете такое значение, чтобы вычислять в среднем 20 160 000 блоков за каждые 14 дней. Докажите это эксперементально. (Вычислите время расчёта как минимум 2016 блоков и покажите, что это близко к целевому значению)."
   ]
  },
  {
   "cell_type": "code",
   "execution_count": null,
   "metadata": {},
   "outputs": [],
   "source": [
    "# code here"
   ]
  },
  {
   "cell_type": "markdown",
   "metadata": {},
   "source": [
    "### Task 1.3 (Для энтузиастов)\n",
    "\n",
    "Повторите эксперименты для других хэш-функций (к примеру, md5(), sha1(), sha224(), sha384(), и sha512()).\n",
    "\n",
    "Какие вы видете изменения?"
   ]
  },
  {
   "cell_type": "code",
   "execution_count": null,
   "metadata": {},
   "outputs": [],
   "source": [
    "from hashlib import md5, sha1, sha224, sha384, sha512"
   ]
  },
  {
   "cell_type": "code",
   "execution_count": null,
   "metadata": {},
   "outputs": [],
   "source": [
    "# code here"
   ]
  },
  {
   "cell_type": "markdown",
   "metadata": {},
   "source": [
    "## 2. Простая криптовалюта"
   ]
  },
  {
   "cell_type": "markdown",
   "metadata": {},
   "source": [
    "Начнём с ведения счетов двух воображаемых людей: Алисы и Боба, которые будут торговать виртуальными деньгами друг с другом.\n",
    "Нам необходимо создать пул входящих транзакций, провалидировать их, и собрать их в блок.\n",
    "Будем использовать хэширование чтобы создать 'отпечаток' каждой из транзакций."
   ]
  },
  {
   "cell_type": "code",
   "execution_count": null,
   "metadata": {},
   "outputs": [],
   "source": [
    "import hashlib, json, sys\n",
    "\n",
    "def hashMe(msg=\"\"):\n",
    "    # For convenience, this is a helper function that wraps our hashing algorithm\n",
    "    if type(msg)!=str:\n",
    "        msg = json.dumps(msg,sort_keys=True)  # If we don't sort keys, we can't guarantee repeatability!\n",
    "       \n",
    "    return hashlib.sha256(str(msg).encode('utf-8')).hexdigest()"
   ]
  },
  {
   "cell_type": "markdown",
   "metadata": {},
   "source": [
    "Ниже опишем функцию для генерации случайных обменов между Бобом и Алисой. Будем обозначать уход денег отрицательными числами, а приход - положительными. Определим, что транзакции будут всегда между двумя пользователями нашей системы, и убедимся, что сумма изменений счетов в транзакции равна нулю - то есть, что мы не создаём и не уничтожаем деньги."
   ]
  },
  {
   "cell_type": "code",
   "execution_count": null,
   "metadata": {},
   "outputs": [],
   "source": [
    "import random\n",
    "\n",
    "def generateTransaction(maxValue=3):\n",
    "    # This will create valid transactions in the range of (1,maxValue)\n",
    "    sign      = random.choice([-1,1])   # This will randomly choose -1 or 1\n",
    "    amount    = random.randint(1,maxValue)\n",
    "    aliceDiff = sign * amount\n",
    "    bobDiff = -1 * aliceDiff\n",
    "    # By construction, this will always return transactions that respect the conservation of tokens.\n",
    "    # However, note that we have not done anything to check whether these overdraft an account\n",
    "    return {u'Alice':aliceDiff,u'Bob':bobDiff}"
   ]
  },
  {
   "cell_type": "markdown",
   "metadata": {},
   "source": [
    "Теперь сгенерируем список транзакций"
   ]
  },
  {
   "cell_type": "code",
   "execution_count": null,
   "metadata": {},
   "outputs": [],
   "source": [
    "random.seed(0)\n",
    "txnBuffer = [generateTransaction() for i in range(30)]"
   ]
  },
  {
   "cell_type": "markdown",
   "metadata": {},
   "source": [
    "Введём очень простые правила для нашей системы токенов:\n",
    "\n",
    "* Сумма всех изменений счетов равна нулю (Мы не создаём и не уничтожаем токены)\n",
    "* Счёт пользователя не может быть отрицательным ни в какой момент времени\n",
    "\n",
    "Если хотябы одно из этих условий не будет выполнено, отменим транзакцию\n",
    "\n",
    "*Note:* В реальных системах проверяется больше условий, в т.ч. электронная подпись участников транзакции"
   ]
  },
  {
   "cell_type": "code",
   "execution_count": null,
   "metadata": {},
   "outputs": [],
   "source": [
    "def updateState(txn, state):\n",
    "    # Inputs: txn, state: dictionaries keyed with account names, holding numeric values for transfer amount (txn) or account balance (state)\n",
    "    # Returns: Updated state, with additional users added to state if necessary\n",
    "    # NOTE: This does not not validate the transaction- just updates the state!\n",
    "    \n",
    "    # If the transaction is valid, then update the state\n",
    "    state = state.copy() # As dictionaries are mutable, let's avoid any confusion by creating a working copy of the data.\n",
    "    for key in txn:\n",
    "        if key in state.keys():\n",
    "            state[key] += txn[key]\n",
    "        else:\n",
    "            state[key] = txn[key]\n",
    "    return state"
   ]
  },
  {
   "cell_type": "code",
   "execution_count": null,
   "metadata": {},
   "outputs": [],
   "source": [
    "def isValidTxn(txn,old_state):\n",
    "    # Assume that the transaction is a dictionary keyed by account names\n",
    "\n",
    "    # Check that the sum of the deposits and withdrawals is 0\n",
    "    if sum(txn.values()) is not 0:\n",
    "        return False\n",
    "    \n",
    "    # Check that the transaction does not cause an overdraft\n",
    "    for key in txn.keys():\n",
    "        if key in old_state.keys(): \n",
    "            acctBalance = old_state[key]\n",
    "        else:\n",
    "            acctBalance = 0\n",
    "        if (acctBalance + txn[key]) < 0:\n",
    "            return False\n",
    "    \n",
    "    return True"
   ]
  },
  {
   "cell_type": "markdown",
   "metadata": {},
   "source": [
    "Вот пример транзакций: некоторые из них нарушают правила, но теперь мы можем проверить их валидность!"
   ]
  },
  {
   "cell_type": "code",
   "execution_count": null,
   "metadata": {},
   "outputs": [],
   "source": [
    "state = {u'Alice':5,u'Bob':5}\n",
    "print(isValidTxn({u'Alice': -3, u'Bob': 3},state))  # Basic transaction - this works great!\n",
    "print(isValidTxn({u'Alice': -4, u'Bob': 3},state))  # But we can't create or destroy tokens!\n",
    "print(isValidTxn({u'Alice': -6, u'Bob': 6},state))  # We also can't overdraft our account.\n",
    "print(isValidTxn({u'Alice': -4, u'Bob': 2,'Lisa':2},state)) # Creating new users is valid\n",
    "print(isValidTxn({u'Alice': -4, u'Bob': 3,'Lisa':2},state)) # But the same rules still apply!\n"
   ]
  },
  {
   "cell_type": "markdown",
   "metadata": {},
   "source": [
    "### Строим блокчейн: От транзакций до блоков"
   ]
  },
  {
   "cell_type": "code",
   "execution_count": null,
   "metadata": {},
   "outputs": [],
   "source": [
    "state = {u'Alice':50, u'Bob':50}  # Define the initial state\n",
    "genesisBlockTxns = [state]\n",
    "genesisBlockContents = {\n",
    "    u'blockNumber':0,\n",
    "    u'parentHash':None,\n",
    "    u'txnCount':len(genesisBlockTxns),\n",
    "    u'txns':genesisBlockTxns\n",
    "}\n",
    "genesisHash = hashMe( genesisBlockContents )\n",
    "genesisBlock = {u'hash':genesisHash,u'contents':genesisBlockContents}\n",
    "genesisBlockStr = json.dumps(genesisBlock, sort_keys=True)\n",
    "\n",
    "genesisBlockStr"
   ]
  },
  {
   "cell_type": "code",
   "execution_count": null,
   "metadata": {},
   "outputs": [],
   "source": [
    "chain = [genesisBlock]"
   ]
  },
  {
   "cell_type": "code",
   "execution_count": null,
   "metadata": {},
   "outputs": [],
   "source": [
    "def makeBlock(txns,chain):\n",
    "    parentBlock = chain[-1]\n",
    "    parentHash  = parentBlock[u'hash']\n",
    "    blockNumber = parentBlock[u'contents'][u'blockNumber'] + 1\n",
    "    txnCount    = len(txns)\n",
    "    blockContents = {\n",
    "        u'blockNumber':blockNumber,\n",
    "        u'parentHash':parentHash,\n",
    "        u'txnCount':len(txns),\n",
    "        'txns':txns\n",
    "    }\n",
    "    blockHash = hashMe( blockContents )\n",
    "    block = {u'hash':blockHash,u'contents':blockContents}\n",
    "    \n",
    "    return block"
   ]
  },
  {
   "cell_type": "markdown",
   "metadata": {},
   "source": [
    "Используем описанную выше функцию, чтобы превратить наш буфер транзакций во множество блоков:"
   ]
  },
  {
   "cell_type": "code",
   "execution_count": null,
   "metadata": {},
   "outputs": [],
   "source": [
    "blockSizeLimit = 5  # Arbitrary number of transactions per block- \n",
    "               #  this is chosen by the block miner, and can vary between blocks!\n",
    "\n",
    "while len(txnBuffer) > 0:\n",
    "    bufferStartSize = len(txnBuffer)\n",
    "    \n",
    "    ## Gather a set of valid transactions for inclusion\n",
    "    txnList = []\n",
    "    while (len(txnBuffer) > 0) & (len(txnList) < blockSizeLimit):\n",
    "        newTxn = txnBuffer.pop()\n",
    "        validTxn = isValidTxn(newTxn,state) # This will return False if txn is invalid\n",
    "        \n",
    "        if validTxn:           # If we got a valid state, not 'False'\n",
    "            txnList.append(newTxn)\n",
    "            state = updateState(newTxn,state)\n",
    "        else:\n",
    "            print(\"ignored transaction\")\n",
    "            sys.stdout.flush()\n",
    "            continue  # This was an invalid transaction; ignore it and move on\n",
    "        \n",
    "    ## Make a block\n",
    "    myBlock = makeBlock(txnList,chain)\n",
    "    chain.append(myBlock)  "
   ]
  },
  {
   "cell_type": "code",
   "execution_count": null,
   "metadata": {},
   "outputs": [],
   "source": [
    "chain[0]"
   ]
  },
  {
   "cell_type": "code",
   "execution_count": null,
   "metadata": {},
   "outputs": [],
   "source": [
    "chain[1]"
   ]
  },
  {
   "cell_type": "code",
   "execution_count": null,
   "metadata": {},
   "outputs": [],
   "source": [
    "print(len(chain))"
   ]
  },
  {
   "cell_type": "markdown",
   "metadata": {},
   "source": [
    "Как видно, корневой блок включает невалидную транзакцию, которая задаёт начальное состояние счетов (создавая токены из ничего). Хэш родительского блока указан в блоке-потомке, который содержит список новых транзакций, изменяющий состояние системы. Теперь посмотрим на обновлённое состояние системы:"
   ]
  },
  {
   "cell_type": "code",
   "execution_count": null,
   "metadata": {},
   "outputs": [],
   "source": [
    "state"
   ]
  },
  {
   "cell_type": "markdown",
   "metadata": {},
   "source": [
    "### Checking Chain Validity"
   ]
  },
  {
   "cell_type": "code",
   "execution_count": null,
   "metadata": {},
   "outputs": [],
   "source": [
    "def checkBlockHash(block):\n",
    "    # Raise an exception if the hash does not match the block contents\n",
    "    expectedHash = hashMe( block['contents'] )\n",
    "    if block['hash']!=expectedHash:\n",
    "        raise Exception('Hash does not match contents of block %s'%\n",
    "                        block['contents']['blockNumber'])\n",
    "    return"
   ]
  },
  {
   "cell_type": "code",
   "execution_count": null,
   "metadata": {},
   "outputs": [],
   "source": [
    "def checkBlockValidity(block,parent,state):    \n",
    "    # We want to check the following conditions:\n",
    "    # - Each of the transactions are valid updates to the system state\n",
    "    # - Block hash is valid for the block contents\n",
    "    # - Block number increments the parent block number by 1\n",
    "    # - Accurately references the parent block's hash\n",
    "    parentNumber = parent['contents']['blockNumber']\n",
    "    parentHash   = parent['hash']\n",
    "    blockNumber  = block['contents']['blockNumber']\n",
    "    \n",
    "    # Check transaction validity; throw an error if an invalid transaction was found.\n",
    "    for txn in block['contents']['txns']:\n",
    "        if isValidTxn(txn,state):\n",
    "            state = updateState(txn,state)\n",
    "        else:\n",
    "            raise Exception('Invalid transaction in block %s: %s'%(blockNumber,txn))\n",
    "\n",
    "    checkBlockHash(block) # Check hash integrity; raises error if inaccurate\n",
    "\n",
    "    if blockNumber!=(parentNumber+1):\n",
    "        raise Exception('Hash does not match contents of block %s'%blockNumber)\n",
    "\n",
    "    if block['contents']['parentHash'] != parentHash:\n",
    "        raise Exception('Parent hash not accurate at block %s'%blockNumber)\n",
    "    \n",
    "    return state"
   ]
  },
  {
   "cell_type": "code",
   "execution_count": null,
   "metadata": {},
   "outputs": [],
   "source": [
    "def checkChain(chain):\n",
    "    # Work through the chain from the genesis block (which gets special treatment), \n",
    "    #  checking that all transactions are internally valid,\n",
    "    #    that the transactions do not cause an overdraft,\n",
    "    #    and that the blocks are linked by their hashes.\n",
    "    # This returns the state as a dictionary of accounts and balances,\n",
    "    #   or returns False if an error was detected\n",
    "\n",
    "    \n",
    "    ## Data input processing: Make sure that our chain is a list of dicts\n",
    "    if type(chain)==str:\n",
    "        try:\n",
    "            chain = json.loads(chain)\n",
    "            assert( type(chain)==list)\n",
    "        except:  # This is a catch-all, admittedly crude\n",
    "            return False\n",
    "    elif type(chain)!=list:\n",
    "        return False\n",
    "    \n",
    "    state = {}\n",
    "    ## Prime the pump by checking the genesis block\n",
    "    # We want to check the following conditions:\n",
    "    # - Each of the transactions are valid updates to the system state\n",
    "    # - Block hash is valid for the block contents\n",
    "\n",
    "    for txn in chain[0]['contents']['txns']:\n",
    "        state = updateState(txn,state)\n",
    "    checkBlockHash(chain[0])\n",
    "    parent = chain[0]\n",
    "    \n",
    "    ## Checking subsequent blocks: These additionally need to check\n",
    "    #    - the reference to the parent block's hash\n",
    "    #    - the validity of the block number\n",
    "    for block in chain[1:]:\n",
    "        state = checkBlockValidity(block,parent,state)\n",
    "        parent = block\n",
    "        \n",
    "    return state"
   ]
  },
  {
   "cell_type": "markdown",
   "metadata": {},
   "source": [
    "Теперь мы можем проверить валидность нашего блокчейна (если он валиден, то функция вернёт итоговое состояние счетов, иначе - будет выброшено исключение):"
   ]
  },
  {
   "cell_type": "code",
   "execution_count": null,
   "metadata": {},
   "outputs": [],
   "source": [
    "checkChain(chain)"
   ]
  },
  {
   "cell_type": "markdown",
   "metadata": {},
   "source": [
    "И даже если мы сохраним куда-либо наш блокчейн, мы можем проверить целостность цепочки и узнать текущее состояние:"
   ]
  },
  {
   "cell_type": "code",
   "execution_count": null,
   "metadata": {},
   "outputs": [],
   "source": [
    "chainAsText = json.dumps(chain,sort_keys=True)\n",
    "checkChain(chainAsText)"
   ]
  },
  {
   "cell_type": "markdown",
   "metadata": {},
   "source": [
    "Если мы удалим блок из цепи, она станет не валидной:"
   ]
  },
  {
   "cell_type": "code",
   "execution_count": null,
   "metadata": {},
   "outputs": [],
   "source": [
    "import copy\n",
    "\n",
    "cropped_chain = copy.copy(chain)\n",
    "cropped_chain.remove(cropped_chain[2])\n",
    "\n",
    "checkChain(cropped_chain)"
   ]
  },
  {
   "cell_type": "markdown",
   "metadata": {},
   "source": [
    "Если мы изменим блок в цепи, то проверка тоже это выявит:"
   ]
  },
  {
   "cell_type": "code",
   "execution_count": null,
   "metadata": {},
   "outputs": [],
   "source": [
    "changedChain = copy.copy(chain)\n",
    "changedChain[2][u'contents'][u'txns'].append({u'Alice': 1, u'Bob': -1})\n",
    "checkChain(changedChain)"
   ]
  },
  {
   "cell_type": "markdown",
   "metadata": {},
   "source": [
    "### Задание 2.1\n",
    "\n",
    "Добавьте Proof-of-Work в блокчейн и nonce в заголовок блока."
   ]
  },
  {
   "cell_type": "code",
   "execution_count": null,
   "metadata": {},
   "outputs": [],
   "source": []
  },
  {
   "cell_type": "markdown",
   "metadata": {},
   "source": [
    "### Задание 2.2\n",
    "\n",
    "Добавьте в транзакцию поля nonce (количество транзакций аккаунта за всю историю блокчейна) для каждого аккаунта, являющегося её участником, и измените функцию проверки транзакций, чтобы избежать повторения транзакций и чётко понимать, в каком порядке должны происходить транзакции.\n",
    "\n",
    "Правило: Транзакция валидна, если поле nonce для каждого аккаунта, участвующего в транзакции, равно увеличенному на 1 полю nonce этого аккаунта в состоянии системы до проведения транзакции."
   ]
  },
  {
   "cell_type": "code",
   "execution_count": null,
   "metadata": {},
   "outputs": [],
   "source": []
  },
  {
   "cell_type": "markdown",
   "metadata": {},
   "source": [
    "## Криптография с использованием публичных ключей"
   ]
  },
  {
   "cell_type": "code",
   "execution_count": null,
   "metadata": {},
   "outputs": [],
   "source": [
    "from Crypto import Random\n",
    "from Crypto.Hash import MD5\n",
    "from Crypto.PublicKey import RSA\n",
    "random_generator = Random.new().read\n",
    "key = RSA.generate(1024, random_generator)\n",
    "print(key)"
   ]
  },
  {
   "cell_type": "code",
   "execution_count": null,
   "metadata": {},
   "outputs": [],
   "source": [
    "print(key.can_encrypt())\n",
    "print(key.can_sign())\n",
    "print(key.has_private())"
   ]
  },
  {
   "cell_type": "markdown",
   "metadata": {},
   "source": [
    "### Шифрование"
   ]
  },
  {
   "cell_type": "code",
   "execution_count": null,
   "metadata": {},
   "outputs": [],
   "source": [
    "public_key = key.publickey()\n",
    "enc_data = public_key.encrypt(str('abcdefgh').encode('utf-8'), 32)\n",
    "print(enc_data)"
   ]
  },
  {
   "cell_type": "markdown",
   "metadata": {},
   "source": [
    "### Дешифрование"
   ]
  },
  {
   "cell_type": "code",
   "execution_count": null,
   "metadata": {},
   "outputs": [],
   "source": [
    "key.decrypt(enc_data)"
   ]
  },
  {
   "cell_type": "markdown",
   "metadata": {},
   "source": [
    "### Подпись"
   ]
  },
  {
   "cell_type": "code",
   "execution_count": null,
   "metadata": {},
   "outputs": [],
   "source": [
    "from Crypto.Hash import MD5\n",
    "from Crypto.PublicKey import RSA\n",
    "RSAkey = RSA.generate(1024, random_generator)   # This will take a while...\n",
    "text = 'abcdefgh'\n",
    "plaintext = str(text).encode('utf-8')\n",
    "hash = MD5.new(plaintext).digest()\n",
    "signature = RSAkey.sign(hash, \"\")\n",
    "print(signature)"
   ]
  },
  {
   "cell_type": "markdown",
   "metadata": {},
   "source": [
    "### Верификация подписи"
   ]
  },
  {
   "cell_type": "code",
   "execution_count": null,
   "metadata": {},
   "outputs": [],
   "source": [
    "public_key = RSAkey.publickey()\n",
    "\n",
    "print(public_key.verify(hash, signature))     # This sig will check out\n",
    "print(public_key.verify(hash[:-1], signature)) # This sig will fail"
   ]
  },
  {
   "cell_type": "markdown",
   "metadata": {},
   "source": [
    "Нельзя подписать публичным ключем"
   ]
  },
  {
   "cell_type": "code",
   "execution_count": null,
   "metadata": {},
   "outputs": [],
   "source": [
    "public_key.sign(hash, \"\")"
   ]
  },
  {
   "cell_type": "markdown",
   "metadata": {},
   "source": [
    "### Задание 4.1\n",
    "\n",
    "Добавьте подписи сторон к каждой транзакции и их проверку в isValidTxn."
   ]
  },
  {
   "cell_type": "markdown",
   "metadata": {},
   "source": [
    "### Задание 4.2\n",
    "\n",
    "Продемонстрируйте итоговый блокчейн."
   ]
  },
  {
   "cell_type": "code",
   "execution_count": null,
   "metadata": {},
   "outputs": [],
   "source": []
  }
 ],
 "metadata": {
  "kernelspec": {
   "display_name": "Python 3",
   "language": "python",
   "name": "python3"
  },
  "language_info": {
   "codemirror_mode": {
    "name": "ipython",
    "version": 3
   },
   "file_extension": ".py",
   "mimetype": "text/x-python",
   "name": "python",
   "nbconvert_exporter": "python",
   "pygments_lexer": "ipython3",
   "version": "3.6.4"
  }
 },
 "nbformat": 4,
 "nbformat_minor": 2
}
